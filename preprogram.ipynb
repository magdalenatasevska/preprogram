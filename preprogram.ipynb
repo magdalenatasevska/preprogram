{
 "cells": [
  {
   "cell_type": "code",
   "execution_count": 8,
   "id": "16ac2f35-42e2-4580-91ba-8643debf3f5c",
   "metadata": {},
   "outputs": [],
   "source": [
    "# To get you started, copy and run these commands one by one.\n",
    "# See what happens, can you predict the outcome of each code before running it?"
   ]
  },
  {
   "cell_type": "code",
   "execution_count": 6,
   "id": "0e7b6837-caff-4b11-9231-da4000b10b5d",
   "metadata": {},
   "outputs": [
    {
     "name": "stdout",
     "output_type": "stream",
     "text": [
      "Hello\n"
     ]
    }
   ],
   "source": [
    "# Example 1\n",
    "print(\"Hello\")"
   ]
  },
  {
   "cell_type": "code",
   "execution_count": 12,
   "id": "220e5bdf-61c8-4365-9439-857d169bbe8c",
   "metadata": {},
   "outputs": [
    {
     "name": "stdout",
     "output_type": "stream",
     "text": [
      "20\n",
      "solution\n"
     ]
    }
   ],
   "source": [
    "# Example 2\n",
    "solution = 20\n",
    "print(solution)\n",
    "print(\"solution\")"
   ]
  },
  {
   "cell_type": "code",
   "execution_count": 14,
   "id": "71d88e00-9181-4616-9bd1-82b3a4ffdcd6",
   "metadata": {},
   "outputs": [
    {
     "name": "stdout",
     "output_type": "stream",
     "text": [
      "30\n"
     ]
    }
   ],
   "source": [
    "# Example 3\n",
    "solution = 20\n",
    "solution = solution + 10\n",
    "print(solution)"
   ]
  },
  {
   "cell_type": "code",
   "execution_count": 16,
   "id": "73e2002c-2f6f-4534-940f-a8026d6c58be",
   "metadata": {},
   "outputs": [],
   "source": [
    "# Copy and paste these commands one by one.\n",
    "# You will obtain a different error type in each. Why are these errors taking place?"
   ]
  },
  {
   "cell_type": "code",
   "execution_count": 18,
   "id": "126a2242-0a3b-4c23-aea8-137fba6f2429",
   "metadata": {},
   "outputs": [
    {
     "ename": "NameError",
     "evalue": "name 'printed' is not defined",
     "output_type": "error",
     "traceback": [
      "\u001b[0;31m---------------------------------------------------------------------------\u001b[0m",
      "\u001b[0;31mNameError\u001b[0m                                 Traceback (most recent call last)",
      "Cell \u001b[0;32mIn[18], line 3\u001b[0m\n\u001b[1;32m      1\u001b[0m \u001b[38;5;66;03m# Example 1\u001b[39;00m\n\u001b[1;32m      2\u001b[0m a \u001b[38;5;241m=\u001b[39m \u001b[38;5;241m10\u001b[39m\n\u001b[0;32m----> 3\u001b[0m printed(a)\n",
      "\u001b[0;31mNameError\u001b[0m: name 'printed' is not defined"
     ]
    }
   ],
   "source": [
    "# Example 1\n",
    "# Runtime error\n",
    "a = 10\n",
    "printed(a)"
   ]
  },
  {
   "cell_type": "code",
   "execution_count": 20,
   "id": "d446228d-e233-4f5b-a300-6fbda725731d",
   "metadata": {},
   "outputs": [
    {
     "ename": "SyntaxError",
     "evalue": "invalid syntax (1871512352.py, line 2)",
     "output_type": "error",
     "traceback": [
      "\u001b[0;36m  Cell \u001b[0;32mIn[20], line 2\u001b[0;36m\u001b[0m\n\u001b[0;31m    number 1 = 20\u001b[0m\n\u001b[0m           ^\u001b[0m\n\u001b[0;31mSyntaxError\u001b[0m\u001b[0;31m:\u001b[0m invalid syntax\n"
     ]
    }
   ],
   "source": [
    "# Example 2\n",
    "# Syntax error\n",
    "number 1 = 20"
   ]
  },
  {
   "cell_type": "code",
   "execution_count": 22,
   "id": "3afa5561-2f4c-4ce5-9574-949d527b79d6",
   "metadata": {},
   "outputs": [
    {
     "name": "stdout",
     "output_type": "stream",
     "text": [
      "The sum of these two numbers is -10\n"
     ]
    }
   ],
   "source": [
    "# Example 3\n",
    "# Semantic error\n",
    "a = 10\n",
    "b = 20\n",
    "print(\"The sum of these two numbers is\", a - b)"
   ]
  },
  {
   "cell_type": "code",
   "execution_count": 24,
   "id": "682f150b-5415-4f2e-a232-6b43d6bff798",
   "metadata": {},
   "outputs": [],
   "source": [
    "# Try to solve these exercises. One possible solution is given at the end of the file.\n",
    "# Take in consideration that this is only one possible solution and all the exercises can be solved with different approaches."
   ]
  },
  {
   "cell_type": "code",
   "execution_count": 36,
   "id": "73564369-190a-4251-ba25-8e478e347471",
   "metadata": {},
   "outputs": [
    {
     "name": "stdout",
     "output_type": "stream",
     "text": [
      "200\n"
     ]
    }
   ],
   "source": [
    "# Exercise 1: Define 2 variables with the values 10 and 20. Show their product.\n",
    "a = 10\n",
    "b = 20\n",
    "print(a * b)"
   ]
  },
  {
   "cell_type": "code",
   "execution_count": 38,
   "id": "a83f7a62-6467-4b0b-9aec-7368b2d59303",
   "metadata": {},
   "outputs": [
    {
     "name": "stdout",
     "output_type": "stream",
     "text": [
      "3\n"
     ]
    }
   ],
   "source": [
    "# Exercise 2: Given a positive number, print its last digit.\n",
    "a = 203\n",
    "solution = a%10\n",
    "print(solution)"
   ]
  },
  {
   "cell_type": "code",
   "execution_count": 40,
   "id": "c38ea5db-679a-4fd0-9e34-6ad166f2dc14",
   "metadata": {},
   "outputs": [
    {
     "name": "stdin",
     "output_type": "stream",
     "text": [
      "Type the amount of Fahrenheit degrees, please  120\n"
     ]
    },
    {
     "name": "stdout",
     "output_type": "stream",
     "text": [
      "The amount of Celsius degrees for the given value is 48.888888888888886\n"
     ]
    }
   ],
   "source": [
    "# Exercise 3: Check this formula to transform Fahrenheit degrees to Celsius:\n",
    "# Celsius = ((Fahrenheit - 32) x 5 )/9\n",
    "# Build a script to receive the amount of Fahrenheit degrees and transform this value to Celsius degree.\n",
    "f = input(\"Type the amount of Fahrenheit degrees, please \")\n",
    "f = float(f)\n",
    "c = (f-32)*5/9\n",
    "print(\"The amount of Celsius degrees for the given value is\", c)"
   ]
  },
  {
   "cell_type": "code",
   "execution_count": 42,
   "id": "4f98c860-8d5e-4b67-946d-eb9001a77aa0",
   "metadata": {},
   "outputs": [],
   "source": [
    "# Try to solve these exercises. One possible solution is given at the end of the file.\n",
    "# Take in consideration that this is only one possible solution and all the exercises can be solved with different approaches."
   ]
  },
  {
   "cell_type": "code",
   "execution_count": 54,
   "id": "9951ce1d-355e-45c1-9ed5-0b2079b69674",
   "metadata": {},
   "outputs": [
    {
     "name": "stdout",
     "output_type": "stream",
     "text": [
      "The minute in this date is 59\n"
     ]
    }
   ],
   "source": [
    "# Exercise 1: Given a date with this format \"11:59:02, June 7th\", extract the minutes.\n",
    "example = \"11:59:02, June 7th\"\n",
    "sol = example[3:5]\n",
    "print(\"The minute in this date is\", sol)"
   ]
  },
  {
   "cell_type": "code",
   "execution_count": 56,
   "id": "d38bb18c-0b74-42c6-bf96-1c507e733219",
   "metadata": {},
   "outputs": [
    {
     "name": "stdout",
     "output_type": "stream",
     "text": [
      "The longest string has 21 characters in total\n"
     ]
    }
   ],
   "source": [
    "# Exercise 2: Given 2 strings, show the number of characters (symbols, digits, etc included) in the longest string.\n",
    "# Spaces should not be counted!\n",
    "a = \"this is the first example\"\n",
    "b = \"nothing\"\n",
    "length_a = len(a) - a.count(\" \")\n",
    "length_b = len(b) - b.count(\" \")\n",
    "answer = max(length_a, length_b)\n",
    "print(\"The longest string has\",answer,\"characters in total\")"
   ]
  },
  {
   "cell_type": "code",
   "execution_count": 58,
   "id": "0e719d6c-541e-407f-bd99-6ba0c8428b25",
   "metadata": {},
   "outputs": [
    {
     "name": "stdout",
     "output_type": "stream",
     "text": [
      "There are 2 flights starting in Madrid\n"
     ]
    }
   ],
   "source": [
    "# Exercise 3: Given 3 flight codes with this aspect, check how many flights start in Madrid.\n",
    "# f1 = \"MAD-BCN\"\n",
    "# f2 = \"MAD-LON\"\n",
    "# f3 = \"LIS-MAD\"\n",
    "f1 = \"MAD-BCN\"\n",
    "f2 = \"MAD-LON\"\n",
    "f3 = \"LIS-MAD\"\n",
    "total = f1+f2+f3\n",
    "solution = total.count(\"MAD-\")\n",
    "print(\"There are\", solution, \"flights starting in Madrid\")"
   ]
  },
  {
   "cell_type": "code",
   "execution_count": 60,
   "id": "1ad95aac-22be-4222-a62e-0e4de83bdaa3",
   "metadata": {},
   "outputs": [],
   "source": [
    "# Try to solve these exercises. One possible solution is given at the end of the file.\n",
    "# Take in consideration that this is only one possible solution and all the exercises can be solved with different approaches."
   ]
  },
  {
   "cell_type": "code",
   "execution_count": 62,
   "id": "e9548d8d-29f8-4376-af06-daecbec47dc3",
   "metadata": {},
   "outputs": [
    {
     "name": "stdout",
     "output_type": "stream",
     "text": [
      "The value is negative\n"
     ]
    }
   ],
   "source": [
    "# Exercise 1: Given a numerical variable, print a message explaining if the value is negative, positive or zero.\n",
    "a = -234\n",
    "if a == 0:\n",
    "\tprint(\"The value is zero\")\n",
    "elif a >0:\n",
    "\tprint(\"The value is positive\")\n",
    "else:\n",
    "\tprint(\"The value is negative\")"
   ]
  },
  {
   "cell_type": "code",
   "execution_count": 64,
   "id": "e5d1dc9d-e6ad-46b0-bd1c-a6be5599cbb8",
   "metadata": {},
   "outputs": [
    {
     "name": "stdin",
     "output_type": "stream",
     "text": [
      "Give a name magi\n"
     ]
    },
    {
     "name": "stdout",
     "output_type": "stream",
     "text": [
      "The first character given is not A\n"
     ]
    }
   ],
   "source": [
    "# Exercise 2: Ask for a name to the user. Show \"Congrats\" if the first character is an \"A\".\n",
    "name = input(\"Give a name\")\n",
    "name = name.lower().strip()\n",
    "first = name[0]\n",
    "if first == \"a\":\n",
    "\tprint(\"Congrats\")\n",
    "else:\n",
    "\tprint(\"The first character given is not A\")"
   ]
  },
  {
   "cell_type": "code",
   "execution_count": 66,
   "id": "2d5ef876-765a-41f7-9cb2-e2c89404d490",
   "metadata": {},
   "outputs": [
    {
     "name": "stdin",
     "output_type": "stream",
     "text": [
      "Give a name magi\n"
     ]
    },
    {
     "name": "stdout",
     "output_type": "stream",
     "text": [
      "The first character given is not a vowel\n"
     ]
    }
   ],
   "source": [
    "# Exercise 3: Ask for a name to the user. Show \"Congrats\" if the first character is a vowel.\n",
    "name = input(\"Give a name\")\n",
    "name = name.lower().strip()\n",
    "first = name[0]\n",
    "if first in [\"a\",\"e\",\"i\",\"o\",\"u\"]:\n",
    "\tprint(\"Congrats\")\n",
    "else:\n",
    "\tprint(\"The first character given is not a vowel\")"
   ]
  },
  {
   "cell_type": "code",
   "execution_count": 68,
   "id": "9c5e8c47-d5ee-4713-bcf1-1a2eae582f70",
   "metadata": {},
   "outputs": [],
   "source": [
    "# Try to solve these exercises. One possible solution is given at the end of the file.\n",
    "# Take in consideration that this is only one possible solution and all the exercises can be solved with different approaches."
   ]
  },
  {
   "cell_type": "code",
   "execution_count": 70,
   "id": "89362483-6f47-4fee-92ad-eaa8a5f995a9",
   "metadata": {},
   "outputs": [
    {
     "name": "stdout",
     "output_type": "stream",
     "text": [
      "Negative balance identified!!\n",
      "Negative balance identified!!\n"
     ]
    }
   ],
   "source": [
    "# Exercise 1: Given a lot of client's balances in a Bank office, show a message every time that you identify a negative balance.\n",
    "balances = [-120,2300,-40, 120, 1000, 80]\n",
    "for number in balances:\n",
    "\tif number < 0:\n",
    "\t\tprint(\"Negative balance identified!!\")"
   ]
  },
  {
   "cell_type": "code",
   "execution_count": 72,
   "id": "b003cd45-6df9-41b1-af44-221a59f66085",
   "metadata": {},
   "outputs": [
    {
     "name": "stdout",
     "output_type": "stream",
     "text": [
      "There are 4 adults in this group\n"
     ]
    }
   ],
   "source": [
    "# Exercise 2: Given a lot of ages in a list for a lot of clients (we can assume that all the values are positive), show how many clients are adults (greater than 18 in Spain).\n",
    "clients = [24,12,34,54,80,15]\n",
    "adult = 0\n",
    "for age in clients:\n",
    "\tif age >= 18:\n",
    "\t\tadult = adult + 1\n",
    "print(\"There are\",adult,\"adults in this group\")"
   ]
  },
  {
   "cell_type": "code",
   "execution_count": 74,
   "id": "28cb80f5-71cd-4cdd-bbf9-3ca35a07686f",
   "metadata": {},
   "outputs": [
    {
     "name": "stdin",
     "output_type": "stream",
     "text": [
      "Please, say a name pablo\n"
     ]
    },
    {
     "name": "stdout",
     "output_type": "stream",
     "text": [
      "Ok. You typed Pablo\n"
     ]
    }
   ],
   "source": [
    "# Exercise 3: Ask for names until the user says \"Pablo\".\n",
    "name = input(\"Please, say a name\")\n",
    "name = name.lower().strip()\n",
    "while name != \"pablo\":\n",
    "\tname = input(\"Please, say a name\")\n",
    "\tname = name.lower().strip()\n",
    "print(\"Ok. You typed Pablo\")"
   ]
  }
 ],
 "metadata": {
  "kernelspec": {
   "display_name": "Python 3 (ipykernel)",
   "language": "python",
   "name": "python3"
  },
  "language_info": {
   "codemirror_mode": {
    "name": "ipython",
    "version": 3
   },
   "file_extension": ".py",
   "mimetype": "text/x-python",
   "name": "python",
   "nbconvert_exporter": "python",
   "pygments_lexer": "ipython3",
   "version": "3.12.4"
  }
 },
 "nbformat": 4,
 "nbformat_minor": 5
}
